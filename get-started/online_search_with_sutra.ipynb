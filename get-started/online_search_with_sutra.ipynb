{
  "cells": [
    {
      "cell_type": "markdown",
      "metadata": {
        "id": "nfnSJY2JwXWy"
      },
      "source": [
        "# Online Search with SUTRA"
      ]
    },
    {
      "cell_type": "markdown",
      "metadata": {
        "id": "_-aIRGKwwUvW"
      },
      "source": [
        "\n",
        "<div style=\"display: flex; align-items: center; gap: 40px;\">\n",
        "\n",
        "<img src=\"https://play-lh.googleusercontent.com/_O9p4Z4yucA2NLmZBu9mTJCuBwXeT9NcbtrDN6I8gKlkIPRySV0adOmbyipjSj9Gew\" width=\"120\">\n",
        "\n",
        "\n",
        "\n",
        "\n",
        "<div>\n",
        "  <h2>SUTRA by TWO Platforms</h2>\n",
        "  <p>SUTRA is a family of large multi-lingual language (LMLMs) models pioneered by Two Platforms. SUTRA’s dual-transformer approach extends the power of both MoE and Dense AI language model architectures, delivering cost-efficient multilingual capabilities for over 50+ languages. It powers scalable AI applications for conversation, search, and advanced reasoning, ensuring high-performance across diverse languages, domains and applications.</p>\n",
        "\n",
        "</div>"
      ]
    },
    {
      "cell_type": "markdown",
      "metadata": {},
      "source": [
        "[![Open In Colab](https://colab.research.google.com/assets/colab-badge.svg)](https://colab.research.google.com/drive/1xDoCHtWWCxCU8snAcI8tBYRBFCf1cC1x?usp=sharing)\n"
      ]
    },
    {
      "cell_type": "markdown",
      "metadata": {
        "id": "inDkigAaojUc"
      },
      "source": [
        "\n",
        "\n",
        "This notebook demonstrates how to use the `online_search` feature in the Two.ai Sutra API. This powerful feature allows the model to access the internet to answer questions with the most current information available, going beyond its training data.\n",
        "\n",
        "**Key Benefits:**\n",
        "- **Real-time Information:** Get answers about recent events, news, and developments.\n",
        "- **Fact-Checking:** Verify facts and get the latest data on any topic.\n",
        "- **Enhanced Accuracy:** Reduces the chance of the model providing outdated or incorrect information."
      ]
    },
    {
      "cell_type": "markdown",
      "metadata": {
        "id": "y7eYANSFwl4P"
      },
      "source": []
    },
    {
      "cell_type": "markdown",
      "metadata": {
        "id": "UsqmJe0sojUe"
      },
      "source": [
        "## Get Your API Keys\n",
        "\n",
        "Before you begin, make sure you have:\n",
        "\n",
        "1. A SUTRA API key (Get yours at [TWO AI's SUTRA API page](https://www.two.ai/sutra/api))\n",
        "2. Basic familiarity with Python and Jupyter notebooks\n",
        "\n",
        "This notebook is designed to run in Google Colab, so no local Python installation is required."
      ]
    },
    {
      "cell_type": "code",
      "execution_count": null,
      "metadata": {
        "id": "g6W8qVlZojUe"
      },
      "outputs": [],
      "source": [
        "import http.client\n",
        "import json\n",
        "import os\n",
        "from google.colab import userdata\n",
        "\n",
        "\n",
        "# Get the API key from Colab's user data (secrets).\n",
        "# Make sure you have created a secret named 'SUTRA_API_KEY' in your Colab environment.\n",
        "API_KEY = userdata.get('SUTRA_API_KEY')\n",
        "\n",
        "\n",
        "def query_sutra_with_search(question: str):\n",
        "    \"\"\"Sends a query to the Sutra API with online_search enabled.\"\"\"\n",
        "\n",
        "    conn = http.client.HTTPSConnection(\"api.two.ai\")\n",
        "\n",
        "    payload = json.dumps({\n",
        "        \"model\": \"sutra-v2\",\n",
        "        \"messages\": [\n",
        "            {\n",
        "                \"role\": \"system\",\n",
        "                \"content\": \"You are a helpful assistant that provides concise, up-to-date answers based on web searches.\"\n",
        "            },\n",
        "            {\n",
        "                \"role\": \"user\",\n",
        "                \"content\": question\n",
        "            }\n",
        "        ],\n",
        "        \"max_tokens\": 250,\n",
        "        \"temperature\": 0.2,\n",
        "        \"stream\": False,\n",
        "        \"extra_body\": {\n",
        "            \"online_search\": True\n",
        "        }\n",
        "    })\n",
        "\n",
        "    headers = {\n",
        "        'Content-Type': \"application/json\",\n",
        "        'Authorization': f\"Bearer {API_KEY}\"\n",
        "    }\n",
        "\n",
        "    try:\n",
        "        conn.request(\"POST\", \"/v2/chat/completions\", payload, headers)\n",
        "        res = conn.getresponse()\n",
        "        data = res.read()\n",
        "        response_json = json.loads(data.decode(\"utf-8\"))\n",
        "\n",
        "        # Print the assistant's message content\n",
        "        if 'choices' in response_json and len(response_json['choices']) > 0:\n",
        "            print(\"--- Assistant's Answer ---\")\n",
        "            print(response_json['choices'][0]['message']['content'])\n",
        "\n",
        "    except Exception as e:\n",
        "        print(f\"An error occurred: {e}\")\n",
        "\n",
        "    finally:\n",
        "        conn.close()"
      ]
    },
    {
      "cell_type": "markdown",
      "metadata": {
        "id": "EO-S53u1ojUf"
      },
      "source": [
        "## Example 1: Latest News\n",
        "\n",
        "This is the example you provided. Let's ask for the latest news on a specific topic. The model will search the web to find the most recent articles and information."
      ]
    },
    {
      "cell_type": "code",
      "execution_count": null,
      "metadata": {
        "colab": {
          "base_uri": "https://localhost:8080/"
        },
        "id": "3BfYYIEfojUf",
        "outputId": "0057d179-ac63-459b-f881-56b1d3e8864b"
      },
      "outputs": [
        {
          "name": "stdout",
          "output_type": "stream",
          "text": [
            "--- Assistant's Answer ---\n",
            "As of July 11, 2025, here are some of the latest developments in artificial intelligence:\n",
            "\n",
            "1. **Google's MedGemma AI Models**: Google has introduced open-source AI models named MedGemma, which are expected to significantly impact the healthcare sector by enhancing diagnostic capabilities and patient care.\n",
            "\n",
            "2. **Tencent's Creative AI Benchmark**: Tencent has made strides in testing creative AI models by establishing a new benchmark, aimed at improving the performance and reliability of AI systems in creative tasks.\n",
            "\n",
            "3. **Leadership Changes at Apple**: Apple has experienced a notable leadership shift with the departure of a key AI leader to Meta, raising questions about the future direction of Apple's AI initiatives.\n",
            "\n",
            "These updates reflect ongoing advancements and shifts within the AI landscape, highlighting both technological progress and organizational changes among major companies.\n"
          ]
        }
      ],
      "source": [
        "question_1 = \"Give me the latest news on artificial intelligence as of today.\"\n",
        "query_sutra_with_search(question_1)"
      ]
    },
    {
      "cell_type": "markdown",
      "metadata": {
        "id": "qFHALZJpojUg"
      },
      "source": [
        "## Example 2: Checking Financial Data\n",
        "\n",
        "The online search feature is perfect for retrieving volatile information like stock prices or financial reports."
      ]
    },
    {
      "cell_type": "code",
      "execution_count": null,
      "metadata": {
        "colab": {
          "base_uri": "https://localhost:8080/"
        },
        "id": "_Xn_I1PFojUg",
        "outputId": "f27fdc79-0ba1-4c45-aa85-b4619f9992af"
      },
      "outputs": [
        {
          "name": "stdout",
          "output_type": "stream",
          "text": [
            "--- Assistant's Answer ---\n",
            "The closing stock price for NVIDIA (NVDA) on July 10, 2025, was $164.10.\n"
          ]
        }
      ],
      "source": [
        "question_2 = \"What was the closing stock price for NVIDIA (NVDA) yesterday?\"\n",
        "query_sutra_with_search(question_2)"
      ]
    },
    {
      "cell_type": "markdown",
      "metadata": {
        "id": "62ug_K_iojUg"
      },
      "source": [
        "## Example 3: Finding Technical Specifications\n",
        "\n",
        "Let's ask for specific, technical information about a recent product release."
      ]
    },
    {
      "cell_type": "code",
      "execution_count": null,
      "metadata": {
        "colab": {
          "base_uri": "https://localhost:8080/"
        },
        "id": "EX8E42lTojUg",
        "outputId": "a3eec5de-c06c-46f4-f58f-129d126c40f7"
      },
      "outputs": [
        {
          "name": "stdout",
          "output_type": "stream",
          "text": [
            "--- Assistant's Answer ---\n",
            "The recently announced OpenAI model, GPT-4o mini, features several key specifications:\n",
            "\n",
            "1. **Context Window**: It has a context window of 128K tokens, allowing for extensive input and output handling.\n",
            "2. **Output Tokens**: The model supports up to 16K output tokens per request, enabling detailed responses.\n",
            "3. **Knowledge Cutoff**: Its training data includes knowledge up to October 2023.\n",
            "\n",
            "These specifications indicate advancements in handling larger contexts and generating more comprehensive outputs compared to previous models.\n"
          ]
        }
      ],
      "source": [
        "question_3 = \"What are the key specifications of the recently announced OpenAI model, GPT-4o?\"\n",
        "query_sutra_with_search(question_3)"
      ]
    },
    {
      "cell_type": "markdown",
      "metadata": {
        "id": "GO72lIMHojUg"
      },
      "source": [
        "## Example 4: Summarizing Recent Events\n",
        "\n",
        "Here, we'll ask the model to synthesize information from multiple sources to provide a summary of a recent event."
      ]
    },
    {
      "cell_type": "code",
      "execution_count": null,
      "metadata": {
        "colab": {
          "base_uri": "https://localhost:8080/"
        },
        "id": "8SYvKjMUojUg",
        "outputId": "c2aab24c-2a41-483e-dce0-a7b46aae61e5"
      },
      "outputs": [
        {
          "name": "stdout",
          "output_type": "stream",
          "text": [
            "--- Assistant's Answer ---\n",
            "The latest UN Climate Change conference, COP29, resulted in the Baku Climate Unity Pact, which includes a new global climate finance goal. The pact calls for all actors to raise at least $1.3 trillion annually, with developed countries expected to mobilize at least $300 billion by 2035. This outcome emphasizes the need for increased financial support to combat climate change and enhance global cooperation.\n"
          ]
        }
      ],
      "source": [
        "question_4 = \"Summarize the main outcomes of the latest UN Climate Change conference.\"\n",
        "query_sutra_with_search(question_4)"
      ]
    },
    {
      "cell_type": "markdown",
      "metadata": {
        "id": "NWrVV3nfrdgB"
      },
      "source": [
        "###Example 5: Real-time Travel Information\n",
        "Add a new Markdown cell with the following content:"
      ]
    },
    {
      "cell_type": "code",
      "execution_count": null,
      "metadata": {
        "colab": {
          "base_uri": "https://localhost:8080/"
        },
        "id": "Zn6vrLoereZp",
        "outputId": "7d8676a9-30c1-4c87-8857-26ec904d3a97"
      },
      "outputs": [
        {
          "name": "stdout",
          "output_type": "stream",
          "text": [
            "--- Assistant's Answer ---\n",
            "As of now, U.S. citizens traveling to Brazil are required to obtain a visa prior to entry. This requirement was reinstated on April 10, 2025. Travelers can apply for an e-visa, which simplifies the process.\n",
            "\n",
            "For the weather forecast in Rio de Janeiro next week, please check a reliable weather service closer to your travel date, as forecasts can change frequently. Generally, July is winter in Brazil, so expect mild temperatures, but specific conditions will vary.\n"
          ]
        }
      ],
      "source": [
        "question_5 = \"What are the current visa requirements for a US citizen traveling to Brazil, and what is the weather forecast for Rio de Janeiro next week?\"\n",
        "query_sutra_with_search(question_5)"
      ]
    }
  ],
  "metadata": {
    "colab": {
      "provenance": []
    },
    "kernelspec": {
      "display_name": "Python 3",
      "language": "python",
      "name": "python3"
    },
    "language_info": {
      "codemirror_mode": {
        "name": "ipython",
        "version": 3
      },
      "file_extension": ".py",
      "mimetype": "text/x-python",
      "name": "python",
      "nbconvert_exporter": "python",
      "pygments_lexer": "ipython3",
      "version": "3.10.9"
    }
  },
  "nbformat": 4,
  "nbformat_minor": 0
}
